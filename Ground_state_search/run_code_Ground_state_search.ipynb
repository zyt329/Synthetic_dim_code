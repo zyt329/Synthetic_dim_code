{
 "cells": [
  {
   "cell_type": "code",
   "execution_count": 1,
   "metadata": {},
   "outputs": [],
   "source": [
    "import os\n",
    "import paramiko"
   ]
  },
  {
   "cell_type": "code",
   "execution_count": 2,
   "metadata": {},
   "outputs": [],
   "source": [
    "host_names = ['shull', 'kendall', 'born', 'moessbauer',\n",
    "              'taylor', 'friedman', 'zernike', 'segre',\n",
    "              'waals', 'ramsey', 'bloch', 'glaser', \n",
    "             'lamb', 'hertz', 'kusch', 'cherenkov']"
   ]
  },
  {
   "cell_type": "code",
   "execution_count": 3,
   "metadata": {},
   "outputs": [],
   "source": [
    "def change_para(L, Q, J, line2change , filename, input_file):\n",
    "    L = str(L)\n",
    "    Q = str(Q)\n",
    "    J = '['+str(J[0])+','+str(J[1])+']'\n",
    "    f = open(input_file, \"r\")\n",
    "    list_of_lines = f.readlines()\n",
    "    list_of_lines[line2change] = 'L = ' + L + '; Q = ' + Q + ';J = ' + J+'\\n'\n",
    "    os.system('mkdir tempo_gen_files')\n",
    "    modified_file = open('./tempo_gen_files/'+filename, \"w\")\n",
    "    modified_file.writelines(list_of_lines)\n",
    "    modified_file.close()"
   ]
  },
  {
   "cell_type": "code",
   "execution_count": 4,
   "metadata": {},
   "outputs": [],
   "source": [
    "def run(L, Q, J, line2change, input_file, paste2, new_name, new_folder = False):\n",
    "    \"\"\"\n",
    "    parameter:\n",
    "    L : An array of Length of lattice.\n",
    "    Q : An array of Q value of the system.\n",
    "    \"\"\"\n",
    "    i = 0\n",
    "    for Li in L:\n",
    "        for Qj in Q:\n",
    "            for Jk in J:\n",
    "                host = host_names[i%16]\n",
    "                file = new_name+'_L'+str(Li)+'_Q'+str(Qj)+'_J'+'_['+str(Jk[0])+','+str(Jk[1])+']'+'.jl'\n",
    "                change_para(L = Li, Q = Qj, J = Jk, line2change = line2change, filename = file, input_file = input_file)\n",
    "                if new_folder:\n",
    "                    os.system('ssh zyt329@shull.physics.ucdavis.edu \"mkdir '+paste2+'\"')\n",
    "                os.system('scp ./'+'./tempo_gen_files/'+file+' zyt329@shull.physics.ucdavis.edu:' + paste2)\n",
    "                print (file,'at',host,'is pasted')\n",
    "                i = i+1"
   ]
  },
  {
   "cell_type": "code",
   "execution_count": 6,
   "metadata": {
    "scrolled": false
   },
   "outputs": [
    {
     "name": "stdout",
     "output_type": "stream",
     "text": [
      "Nonperiodic_L4_Q2_J_[1,1.2].jl at shull is pasted\n",
      "Nonperiodic_L4_Q2_J_[1,0.8].jl at kendall is pasted\n",
      "Nonperiodic_L4_Q3_J_[1,1.2].jl at born is pasted\n",
      "Nonperiodic_L4_Q3_J_[1,0.8].jl at moessbauer is pasted\n",
      "Nonperiodic_L4_Q4_J_[1,1.2].jl at taylor is pasted\n",
      "Nonperiodic_L4_Q4_J_[1,0.8].jl at friedman is pasted\n"
     ]
    }
   ],
   "source": [
    "L = [4]#\n",
    "Q = [2,3,4]\n",
    "J = [[1,1.2],[1,0.8]]\n",
    "line2change = 58\n",
    "input_file = 'E:/UC Davis/Research/Synthetic Dimensions/Synthetic_dim_code/Ground_state_search/Ground_state_search.jl'\n",
    "paste2 = '~/Research/Synthetic_dim_code/Ground_state_search/'\n",
    "new_name = 'Nonperiodic'\n",
    "new_folder = False\n",
    "\n",
    "run(L = L,Q = Q,J = J, line2change = line2change, input_file = input_file, paste2 = paste2, new_name = new_name, new_folder = new_folder)"
   ]
  },
  {
   "cell_type": "code",
   "execution_count": null,
   "metadata": {},
   "outputs": [],
   "source": [
    "D:/UC Davis/Research/Synthetic Dimension/Synthetic_dim_code"
   ]
  },
  {
   "cell_type": "code",
   "execution_count": 4,
   "metadata": {},
   "outputs": [
    {
     "data": {
      "text/plain": [
       "0"
      ]
     },
     "execution_count": 4,
     "metadata": {},
     "output_type": "execute_result"
    }
   ],
   "source": [
    "os.system('ssh -f zyt329@kendall.physics.ucdavis.edu \"cd /nfs/home/zyt329/Research/Synthetic_dim_code/Remote_result;nohup nice /nfs/software/julia/julia-1.2.0/bin/julia /nfs/home/zyt329/Research/Synthetic_dim_code/L6_Q8_shullMax_def_driver.jl &\"')"
   ]
  },
  {
   "cell_type": "code",
   "execution_count": null,
   "metadata": {},
   "outputs": [],
   "source": []
  }
 ],
 "metadata": {
  "kernelspec": {
   "display_name": "Python 3",
   "language": "python",
   "name": "python3"
  },
  "language_info": {
   "codemirror_mode": {
    "name": "ipython",
    "version": 3
   },
   "file_extension": ".py",
   "mimetype": "text/x-python",
   "name": "python",
   "nbconvert_exporter": "python",
   "pygments_lexer": "ipython3",
   "version": "3.7.6"
  }
 },
 "nbformat": 4,
 "nbformat_minor": 4
}
