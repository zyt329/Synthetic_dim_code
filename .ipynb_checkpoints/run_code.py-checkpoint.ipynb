{
 "cells": [
  {
   "cell_type": "code",
   "execution_count": 1,
   "metadata": {},
   "outputs": [],
   "source": [
    "import os\n",
    "import paramiko"
   ]
  },
  {
   "cell_type": "code",
   "execution_count": 2,
   "metadata": {},
   "outputs": [],
   "source": [
    "host_names = ['shull', 'kendall', 'born', 'moessbauer',\n",
    "              'taylor', 'friedman', 'zermike', 'segre',\n",
    "              'waals', 'ramsey', 'bloch', 'glaser', \n",
    "             'lamb', 'hertz', 'kusch', 'cherenkov']"
   ]
  },
  {
   "cell_type": "code",
   "execution_count": 3,
   "metadata": {},
   "outputs": [],
   "source": [
    "def change_para(L, Q, line2change = 72, filename = 'test.jl'):\n",
    "    L = str(L)\n",
    "    Q = str(Q)\n",
    "    f = open('D:/UC Davis/Research/Synthetic Dimension/Synthetic_dim_code/driver.jl', \"r\")\n",
    "    list_of_lines = f.readlines()\n",
    "    list_of_lines[line2change] = 'L = ' + L + '; Q = ' + Q + '\\n'\n",
    "    modified_file = open(filename, \"w\")\n",
    "    modified_file.writelines(list_of_lines)\n",
    "    modified_file.close()"
   ]
  },
  {
   "cell_type": "code",
   "execution_count": 5,
   "metadata": {},
   "outputs": [],
   "source": [
    "def run(L, Q):\n",
    "    \"\"\"\n",
    "    parameter:\n",
    "    L : An array of Length of lattice.\n",
    "    Q : An array of Q value of the system.\n",
    "    \"\"\"\n",
    "    i = 0\n",
    "    for Li in L:\n",
    "        for Qj in Q:\n",
    "            host = host_names[i%16]\n",
    "            file = 'L'+str(Li)+'_Q'+str(Qj)+'_'+host+'_Max_def_test'+'.jl'\n",
    "            change_para(L = Li, Q = Qj, filename = file)\n",
    "            os.system('scp ./'+file+' zyt329@shull.physics.ucdavis.edu:~/Research/Synthetic_dim_code/')                \n",
    "            os.system('ssh -f zyt329@'+host+'.physics.ucdavis.edu \"cd ~/Research/Synthetic_dim_code/Remote_result;nohup nice /nfs/software/julia/julia-1.2.0/bin/julia ~/Research/Synthetic_dim_code/'+file+'&\"')\n",
    "            print (file,'at',host,'is complete')\n",
    "            i = i+1"
   ]
  },
  {
   "cell_type": "code",
   "execution_count": 45,
   "metadata": {},
   "outputs": [
    {
     "name": "stdout",
     "output_type": "stream",
     "text": [
      "L6_Q8_shull_Max_def_test.jl at shull is complete\n",
      "L6_Q16_kendall_Max_def_test.jl at kendall is complete\n",
      "L8_Q8_born_Max_def_test.jl at born is complete\n",
      "L8_Q16_moessbauer_Max_def_test.jl at moessbauer is complete\n",
      "L10_Q8_taylor_Max_def_test.jl at taylor is complete\n",
      "L10_Q16_friedman_Max_def_test.jl at friedman is complete\n",
      "L12_Q8_zermike_Max_def_test.jl at zermike is complete\n",
      "L12_Q16_segre_Max_def_test.jl at segre is complete\n",
      "L14_Q8_waals_Max_def_test.jl at waals is complete\n",
      "L14_Q16_ramsey_Max_def_test.jl at ramsey is complete\n",
      "L16_Q8_bloch_Max_def_test.jl at bloch is complete\n",
      "L16_Q16_glaser_Max_def_test.jl at glaser is complete\n"
     ]
    }
   ],
   "source": [
    "run(L = [6,8,10,12,14,16],Q = [8,16])"
   ]
  },
  {
   "cell_type": "code",
   "execution_count": null,
   "metadata": {},
   "outputs": [],
   "source": [
    " "
   ]
  }
 ],
 "metadata": {
  "kernelspec": {
   "display_name": "Python 3",
   "language": "python",
   "name": "python3"
  },
  "language_info": {
   "codemirror_mode": {
    "name": "ipython",
    "version": 3
   },
   "file_extension": ".py",
   "mimetype": "text/x-python",
   "name": "python",
   "nbconvert_exporter": "python",
   "pygments_lexer": "ipython3",
   "version": "3.7.6"
  }
 },
 "nbformat": 4,
 "nbformat_minor": 4
}
