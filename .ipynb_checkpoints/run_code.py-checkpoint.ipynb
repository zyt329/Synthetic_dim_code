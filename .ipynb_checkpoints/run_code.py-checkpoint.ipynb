{
 "cells": [
  {
   "cell_type": "code",
   "execution_count": 6,
   "metadata": {},
   "outputs": [],
   "source": [
    "import os\n",
    "import paramiko"
   ]
  },
  {
   "cell_type": "code",
   "execution_count": 7,
   "metadata": {},
   "outputs": [],
   "source": [
    "host_names = ['shull', 'kendall', 'born', 'moessbauer',\n",
    "              'taylor', 'friedman', 'zernike', 'segre',\n",
    "              'waals', 'ramsey', 'bloch', 'glaser', \n",
    "             'lamb', 'hertz', 'kusch', 'cherenkov']"
   ]
  },
  {
   "cell_type": "code",
   "execution_count": 8,
   "metadata": {},
   "outputs": [],
   "source": [
    "def change_para(L, Q, line2change , filename, input_file):\n",
    "    L = str(L)\n",
    "    Q = str(Q)\n",
    "    f = open(input_file, \"r\")\n",
    "    list_of_lines = f.readlines()\n",
    "    list_of_lines[line2change] = 'L = ' + L + '; Q = ' + Q + '\\n'\n",
    "    os.system('mkdir tempo_gen_files')\n",
    "    modified_file = open('./tempo_gen_files/'+filename, \"w\")\n",
    "    modified_file.writelines(list_of_lines)\n",
    "    modified_file.close()"
   ]
  },
  {
   "cell_type": "code",
   "execution_count": 9,
   "metadata": {},
   "outputs": [],
   "source": [
    "def run(L, Q, line2change, input_file, paste2, new_name, new_folder = False):\n",
    "    \"\"\"\n",
    "    parameter:\n",
    "    L : An array of Length of lattice.\n",
    "    Q : An array of Q value of the system.\n",
    "    \"\"\"\n",
    "    i = 0\n",
    "    for Li in L:\n",
    "        for Qj in Q:\n",
    "            host = host_names[i%16]\n",
    "            file = new_name+'_L'+str(Li)+'_Q'+str(Qj)+'_'+host+'.jl'\n",
    "            change_para(L = Li, Q = Qj, line2change = line2change, filename = file, input_file = input_file)\n",
    "            if new_folder:\n",
    "                os.system('ssh zyt329@shull.physics.ucdavis.edu \"mkdir '+paste2+'\"')\n",
    "            os.system('scp ./'+'./tempo_gen_files/'+file+' zyt329@shull.physics.ucdavis.edu:' + paste2)\n",
    "            print (file,'at',host,'is pasted')\n",
    "            i = i+1"
   ]
  },
  {
   "cell_type": "code",
   "execution_count": 10,
   "metadata": {
    "scrolled": true
   },
   "outputs": [
    {
     "name": "stdout",
     "output_type": "stream",
     "text": [
      "newM_rev_nonperiodic_M2added_Q=3_J1=0.0_1.1_Q=16_sweep4e6_L8_Q3_shull.jl at shull is pasted\n"
     ]
    }
   ],
   "source": [
    "L = [8]#10,,14,16\n",
    "Q = [3]\n",
    "line2change = 107\n",
    "input_file = 'E:/UC Davis/Research/Synthetic Dimensions/Synthetic_dim_code/newM_driver.jl'\n",
    "paste2 = '~/Research/Synthetic_dim_code/paper_driver/'\n",
    "new_name = 'newM_rev_nonperiodic_M2added_Q=3_J1=0.0_1.1_Q=16_sweep4e6'\n",
    "new_folder = False\n",
    "\n",
    "run(L = L,Q = Q, line2change = line2change, input_file = input_file, paste2 = paste2, new_name = new_name, new_folder = new_folder)"
   ]
  },
  {
   "cell_type": "code",
   "execution_count": null,
   "metadata": {},
   "outputs": [],
   "source": [
    "D:/UC Davis/Research/Synthetic Dimension/Synthetic_dim_code"
   ]
  },
  {
   "cell_type": "code",
   "execution_count": 4,
   "metadata": {},
   "outputs": [
    {
     "data": {
      "text/plain": [
       "0"
      ]
     },
     "execution_count": 4,
     "metadata": {},
     "output_type": "execute_result"
    }
   ],
   "source": [
    "os.system('ssh -f zyt329@kendall.physics.ucdavis.edu \"cd /nfs/home/zyt329/Research/Synthetic_dim_code/Remote_result;nohup nice /nfs/software/julia/julia-1.2.0/bin/julia /nfs/home/zyt329/Research/Synthetic_dim_code/L6_Q8_shullMax_def_driver.jl &\"')"
   ]
  },
  {
   "cell_type": "code",
   "execution_count": null,
   "metadata": {},
   "outputs": [],
   "source": []
  }
 ],
 "metadata": {
  "kernelspec": {
   "display_name": "Python 3",
   "language": "python",
   "name": "python3"
  },
  "language_info": {
   "codemirror_mode": {
    "name": "ipython",
    "version": 3
   },
   "file_extension": ".py",
   "mimetype": "text/x-python",
   "name": "python",
   "nbconvert_exporter": "python",
   "pygments_lexer": "ipython3",
   "version": "3.7.6"
  }
 },
 "nbformat": 4,
 "nbformat_minor": 4
}
