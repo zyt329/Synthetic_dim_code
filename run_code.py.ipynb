{
 "cells": [
  {
   "cell_type": "code",
   "execution_count": 1,
   "metadata": {},
   "outputs": [],
   "source": [
    "import os\n",
    "import paramiko"
   ]
  },
  {
   "cell_type": "code",
   "execution_count": 2,
   "metadata": {},
   "outputs": [],
   "source": [
    "host_names = ['shull', 'kendall', 'born', 'moessbauer',\n",
    "              'taylor', 'friedman', 'zermike', 'segre',\n",
    "              'waals', 'ramsey', 'bloch', 'glaser', \n",
    "             'lamb', 'hertz', 'kusch', 'cherenkov']"
   ]
  },
  {
   "cell_type": "code",
   "execution_count": 3,
   "metadata": {},
   "outputs": [],
   "source": [
    "def change_para(L, Q, line2change = 72, filename = 'test.jl'):\n",
    "    L = str(L)\n",
    "    Q = str(Q)\n",
    "    f = open('./driver.jl', \"r\")\n",
    "    list_of_lines = f.readlines()\n",
    "    list_of_lines[line2change] = 'L = ' + L + '; Q = ' + Q + '\\n'\n",
    "    modified_file = open(filename, \"w\")\n",
    "    modified_file.writelines(list_of_lines)\n",
    "    modified_file.close()"
   ]
  },
  {
   "cell_type": "code",
   "execution_count": 4,
   "metadata": {},
   "outputs": [],
   "source": [
    "def run(L, Q):\n",
    "    \"\"\"\n",
    "    parameter:\n",
    "    L : An array of Length of lattice.\n",
    "    Q : An array of Q value of the system.\n",
    "    \"\"\"\n",
    "    i = 0\n",
    "    for Li in L:\n",
    "        for Qj in Q:\n",
    "            host = host_names[i%16]\n",
    "            file = 'L'+str(Li)+'_Q'+str(Qj)+'_'+host+'driver'+'.jl'\n",
    "            change_para(L = Li, Q = Qj, filename = file)\n",
    "            os.system('scp ./'+file+' zyt329@shull.physics.ucdavis.edu:~/Research/Synthetic_dim_code/')                \n",
    "            os.system('ssh -f zyt329@'+host+'.physics.ucdavis.edu \"cd ~/Research/Synthetic_dim_code/Remote_result;nohup nice /nfs/software/julia/julia-1.2.0/bin/julia ~/Research/Synthetic_dim_code/'+file+'&\"')\n",
    "            print (file,'at',host,'is complete')\n",
    "            i = i+1"
   ]
  },
  {
   "cell_type": "code",
   "execution_count": null,
   "metadata": {},
   "outputs": [],
   "source": [
    "run(L = [6,8,10,12,14,16],Q = [8,16])"
   ]
  },
  {
   "cell_type": "code",
   "execution_count": null,
   "metadata": {},
   "outputs": [],
   "source": [
    "D:/UC Davis/Research/Synthetic Dimension/Synthetic_dim_code"
   ]
  }
 ],
 "metadata": {
  "kernelspec": {
   "display_name": "Python 3",
   "language": "python",
   "name": "python3"
  },
  "language_info": {
   "codemirror_mode": {
    "name": "ipython",
    "version": 3
   },
   "file_extension": ".py",
   "mimetype": "text/x-python",
   "name": "python",
   "nbconvert_exporter": "python",
   "pygments_lexer": "ipython3",
   "version": "3.7.6"
  }
 },
 "nbformat": 4,
 "nbformat_minor": 4
}
